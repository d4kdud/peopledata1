{
  "nbformat": 4,
  "nbformat_minor": 0,
  "metadata": {
    "colab": {
      "provenance": [],
      "authorship_tag": "ABX9TyNIcBc7ktCO1688DVeYwNqo",
      "include_colab_link": true
    },
    "kernelspec": {
      "name": "python3",
      "display_name": "Python 3"
    },
    "language_info": {
      "name": "python"
    }
  },
  "cells": [
    {
      "cell_type": "markdown",
      "metadata": {
        "id": "view-in-github",
        "colab_type": "text"
      },
      "source": [
        "<a href=\"https://colab.research.google.com/github/d4kdud/peopledata1/blob/main/people1.ipynb\" target=\"_parent\"><img src=\"https://colab.research.google.com/assets/colab-badge.svg\" alt=\"Open In Colab\"/></a>"
      ]
    },
    {
      "cell_type": "code",
      "execution_count": null,
      "metadata": {
        "id": "DW8ApC-PiJGE"
      },
      "outputs": [],
      "source": [
        "import chardet\n",
        "\n",
        "with open('/content/peopleage.csv', 'rb') as f:\n",
        "    rawdata = f.read()\n",
        "    result = chardet.detect(rawdata)\n",
        "    encoding = result['encoding']\n",
        "\n",
        "print(encoding)"
      ]
    },
    {
      "cell_type": "code",
      "source": [
        "#인구데이터 분석 및 시각화\n",
        "#인구 분포를 가시\n",
        "\n",
        "import csv\n",
        "import matplotlib.pyplot as plt\n",
        "\n",
        "with open('/content/peopleage.csv', 'r', encoding='EUC-KR') as f:\n",
        "    data = csv.reader(f)\n",
        "\n",
        "    result = []\n",
        "    for row in data:\n",
        "        if '사근' in row[0]:\n",
        "            for i in row[3:]:\n",
        "                result.append(int(i))\n",
        "\n",
        "    #print(result)\n",
        "\n",
        "plt.style.use('ggplot')\n",
        "plt.plot(result)\n",
        "plt.show()\n"
      ],
      "metadata": {
        "id": "k58ODHNiibVP"
      },
      "execution_count": null,
      "outputs": []
    },
    {
      "cell_type": "code",
      "source": [
        "!sudo apt-get install -y fonts-nanum*"
      ],
      "metadata": {
        "id": "uMakydnkiblQ"
      },
      "execution_count": null,
      "outputs": []
    },
    {
      "cell_type": "code",
      "source": [
        "#인구데이터 분석 및 시각화\n",
        "#인구 분포를 가시 - 입력을 받아 본인이 사는 곳 테스트(서울에 있는 OO동만 가능)\n",
        "import matplotlib.pyplot as plt\n",
        "import csv\n",
        "\n",
        "# Colab 환경에서 한글 폰트 설정\n",
        "plt.rc('font', family='NanumGothic')\n",
        "plt.rc('axes', unicode_minus=False)\n",
        "\n",
        "with open('/content/peopleage.csv', 'r', encoding='EUC-KR') as f:\n",
        "    data = csv.reader(f)\n",
        "\n",
        "    result = []\n",
        "    name = input('인구 구조가 알고 싶은 지역 이름 입력: ')\n",
        "\n",
        "    for row in data:\n",
        "        if name in row[0]:\n",
        "            print(row[0])\n",
        "            for i in row[3:]:\n",
        "                result.append(int(i))\n",
        "            break\n",
        "\n",
        "plt.style.use('ggplot')\n",
        "plt.title(name + ' 지역의 인구 구조')\n",
        "plt.plot(result)\n",
        "plt.show()"
      ],
      "metadata": {
        "id": "upqKZLa3ib3I"
      },
      "execution_count": null,
      "outputs": []
    },
    {
      "cell_type": "code",
      "source": [
        "#인구데이터 분석 및 시각화\n",
        "#막대그래프\n",
        "\n",
        "import csv\n",
        "import matplotlib.pyplot as plt\n",
        "\n",
        "with open('/content/peopleage.csv', 'r', encoding='EUC-KR') as f:\n",
        "    data = csv.reader(f)\n",
        "\n",
        "    result = []\n",
        "    for row in data:\n",
        "        if '사근' in row[0]:\n",
        "            for i in row[3:]:\n",
        "                result.append(int(i))\n",
        "\n",
        "    #print(result)\n",
        "\n",
        "plt.bar(range(101), result, color='green')\n",
        "plt.show()"
      ],
      "metadata": {
        "id": "96pLLRdzicD0"
      },
      "execution_count": null,
      "outputs": []
    },
    {
      "cell_type": "code",
      "source": [
        "#인구데이터 분석 및 시각화\n",
        "#성별 분포를 가시 - 지역을 입력하면 오류(동으로 입력해야함)\n",
        "\n",
        "import csv\n",
        "import matplotlib.pyplot as plt\n",
        "\n",
        "with open('/content/peoplegender.csv', 'r', encoding='EUC-KR') as f:\n",
        "    data = csv.reader(f)\n",
        "    header = next(data)\n",
        "    print(header)\n",
        "\n",
        "    name = input('찾고 싶은 지역의 이름 입력: ')\n",
        "\n",
        "    m = []\n",
        "    f = []\n",
        "\n",
        "    for row in data:\n",
        "        if name in row[0]:\n",
        "            for i in range(0, 101):\n",
        "                m.append(-int(row[i+3]))  # 남성 인구 데이터를 음수로 저장\n",
        "                f.append(int(row[-(i+1)]))  # 여성 인구 데이터를 양수로 저장\n",
        "            break\n",
        "    f.reverse()  # 여성 인구 데이터를 반전\n",
        "\n",
        "plt.rc('font', family='Malgun Gothic')\n",
        "plt.figure(figsize=(10, 5))\n",
        "plt.rcParams['axes.unicode_minus'] = False  # 부호 깨짐 방지\n",
        "plt.title(name + ' 지역의 남녀 성별 인구 분포')\n",
        "plt.barh(range(101), m, color='blue', label='남성')\n",
        "plt.barh(range(101), f, color='green', label='여성')\n",
        "plt.legend()\n",
        "plt.show()\n",
        "\n",
        "\n",
        "#ValueError: invalid literal for int() with base 10: '1,797' 오류발생 - 문자열 '1,797'을 정수로 변환하려고 할 때 발생.\n",
        "#이는 쉼표가 포함된 숫자 문자열을 정수로 변환할 수 없기 때문에 발생하는 오류"
      ],
      "metadata": {
        "id": "vTXIabALicQJ"
      },
      "execution_count": null,
      "outputs": []
    },
    {
      "cell_type": "code",
      "source": [
        "#인구데이터 분석 및 시각화\n",
        "#성별 분포를 가시 - 제주 입력 오류 해결\n",
        "\n",
        "import csv\n",
        "import matplotlib.pyplot as plt\n",
        "\n",
        "with open('/content/peoplegender.csv', 'r', encoding='EUC-KR') as f:\n",
        "    data = csv.reader(f)\n",
        "    header = next(data)\n",
        "    print(header)\n",
        "\n",
        "    name = input('찾고 싶은 지역의 이름 입력: ')\n",
        "\n",
        "    m = []\n",
        "    f = []\n",
        "\n",
        "    for row in data:\n",
        "        if name in row[0]:\n",
        "            for i in range(0, 101):\n",
        "                m.append(-int(row[i + 3].replace(',', '')))  # 남성 인구 데이터를 쉼표 제거 후 음수로 저장\n",
        "                f.append(int(row[-(i + 1)].replace(',', '')))  # 여성 인구 데이터를 쉼표 제거 후 양수로 저장\n",
        "            break\n",
        "    f.reverse()  # 여성 인구 데이터를 반전\n",
        "\n",
        "# 데이터의 길이와 일치하는 범위를 사용\n",
        "age_range = range(len(m))\n",
        "\n",
        "plt.rc('font', family='Malgun Gothic')\n",
        "plt.figure(figsize=(10, 5))\n",
        "plt.rcParams['axes.unicode_minus'] = False  # 부호 깨짐 방지\n",
        "plt.title(name + ' 지역의 남녀 성별 인구 분포')\n",
        "\n",
        "#plt.barh()에서 데이터를 시각화할 때, 데이터의 길이와 범위가 일치해야 함\n",
        "#데이터의 길이와 범위를 일치시키는 것은 plt.barh에서 x축과 y축의 데이터 길이가 동일해야 한다는 것을 의미\n",
        "plt.barh(age_range, m, color='blue', label='남성')\n",
        "plt.barh(age_range, f, color='green', label='여성')\n",
        "plt.legend()\n",
        "plt.show()\n",
        "\n"
      ],
      "metadata": {
        "id": "44H-uDg0iccf"
      },
      "execution_count": null,
      "outputs": []
    },
    {
      "cell_type": "code",
      "source": [
        "#파이그래프\n",
        "\n",
        "import matplotlib.pyplot as plt\n",
        "\n",
        "plt.rc('font', family='Malgun Gothic')\n",
        "size = [2543, 2754, 1031, 3719] #임의의 숫자\n",
        "label = ['A형', 'B형', 'AB형', 'O형']\n",
        "color = ['darkmagenta', 'deeppink', 'hotpink', 'pink']\n",
        "plt.axis('equal')\n",
        "\n",
        "#autopct = auto percent\n",
        "#explode는 돌출, 0은 돌출X\n",
        "plt.pie(size, labels=label, autopct='%.1f%%', explode=(0, 0, 0.2, 0), colors=color)\n",
        "plt.legend()\n",
        "plt.show()"
      ],
      "metadata": {
        "id": "zeMLC6ixicws"
      },
      "execution_count": null,
      "outputs": []
    },
    {
      "cell_type": "code",
      "source": [
        "#인구데이터 분석 및 시각화\n",
        "#파이그래프 - 제주(제주에는 진짜 돌, 바람, 여자가 많은지 확인)\n",
        "#결과: 여자와 남자의 비율이 같음\n",
        "\n",
        "import csv\n",
        "import matplotlib.pyplot as plt\n",
        "\n",
        "with open('/content/peopleage.csv', 'r', encoding='EUC-KR') as f:\n",
        "    data = csv.reader(f)\n",
        "    name = input('찾고 싶은 지역의 이름 입력: ')\n",
        "    sumsize = []\n",
        "\n",
        "    for row in data:\n",
        "        if name in row[0]:\n",
        "          m = f = 0\n",
        "          for i in range(0, 101):\n",
        "              m += (int(row[i + 3].replace(',', '')))\n",
        "              f += (int(row[-(i + 1)].replace(',', '')))\n",
        "          break\n",
        "\n",
        "sumsize.append(m)\n",
        "sumsize.append(f)\n",
        "print(m, f, sumsize)\n",
        "\n",
        "plt.rc('font', family='Malgun Gothic')\n",
        "color = ['crimson', 'darkcyan']\n",
        "plt.axis('equal')\n",
        "plt.pie(sumsize, labels=['남', '여'], autopct='%.1f%%', colors=color, startangle=90)\n",
        "plt.title(name + ' 지역의 남녀 성별 비율')\n",
        "plt.show()\n",
        "\n"
      ],
      "metadata": {
        "id": "GONgkW7Eic_c"
      },
      "execution_count": null,
      "outputs": []
    },
    {
      "cell_type": "code",
      "source": [
        "#인구데이터 분석 및 시각화\n",
        "#꺾은선그래프 - 제주(제주에는 진짜 돌, 바람, 여자가 많은지 확인)\n",
        "#결과: 60대까지는 남자가 많고, 60대 이상은 여성이 많음.\n",
        "\n",
        "import csv\n",
        "import matplotlib.pyplot as plt\n",
        "\n",
        "with open('/content/peoplegender.csv', 'r', encoding='EUC-KR') as f:\n",
        "    data = csv.reader(f)\n",
        "    name = input('찾고 싶은 지역의 이름 입력: ')\n",
        "\n",
        "    m = []\n",
        "    f = []\n",
        "\n",
        "    for row in data:\n",
        "        if name in row[0]:\n",
        "            for i in range(0, 101):\n",
        "                m.append(int(row[i + 3].replace(',', '')))\n",
        "                f.append(int(row[-(i + 1)].replace(',', '')))\n",
        "            break\n",
        "    f.reverse()\n",
        "\n",
        "\n",
        "plt.plot(m, color='blue', label = 'Male')\n",
        "plt.plot(f, color='orange', label = 'Female')\n",
        "plt.legend()\n",
        "plt.show()"
      ],
      "metadata": {
        "id": "YuFLd2UuidLs"
      },
      "execution_count": null,
      "outputs": []
    },
    {
      "cell_type": "code",
      "source": [
        "#인구데이터 분석 및 시각화\n",
        "#조금 더 구체적인 막대 그래프\n",
        "#결과 - 40대는 여자가 약간 많고, 60대 이상은 압도적으로 여자가 많다.\n",
        "\n",
        "import csv\n",
        "import matplotlib.pyplot as plt\n",
        "\n",
        "with open('/content/peoplegender.csv', 'r', encoding='EUC-KR') as f:\n",
        "    data = csv.reader(f)\n",
        "    name = input('찾고 싶은 지역의 이름 입력: ')\n",
        "\n",
        "    result = []\n",
        "\n",
        "    for row in data:\n",
        "      if name in row[0]:\n",
        "        for i in range(3, 104):\n",
        "          m = int(row[i].replace(',', ''))\n",
        "          f = int(row[i + 103].replace(',', ''))\n",
        "\n",
        "          result.append(m - f)\n",
        "        break\n",
        "\n",
        "plt.bar(range(101), result, color='green')\n",
        "plt.show()"
      ],
      "metadata": {
        "id": "hD0ZZjhHidnK"
      },
      "execution_count": null,
      "outputs": []
    },
    {
      "cell_type": "code",
      "source": [
        "#scatter()함수\n",
        "#산점도 그래프\n",
        "\n",
        "import matplotlib.pyplot as plt\n",
        "import random\n",
        "\n",
        "x = []\n",
        "y = []\n",
        "size = []\n",
        "\n",
        "for i in range(100):\n",
        "  x.append(random.randint(50, 100))\n",
        "  y.append(random.randint(50, 100))\n",
        "  size.append(random.randint(10, 100))\n",
        "\n",
        "plt.style.use('ggplot')\n",
        "#alpha - 투명도 (0~1)\n",
        "plt.scatter(x, y, s=size, c=size, cmap='jet', alpha=0.7)\n",
        "plt.colorbar()\n",
        "plt.show()"
      ],
      "metadata": {
        "id": "xqg-TfZIixV3"
      },
      "execution_count": null,
      "outputs": []
    },
    {
      "cell_type": "code",
      "source": [
        "#인구데이터 분석 및 시각화\n",
        "#scatter 이용\n",
        "\n",
        "import csv\n",
        "import matplotlib.pyplot as plt\n",
        "import math\n",
        "\n",
        "with open('/content/peoplegender.csv', 'r', encoding='EUC-KR') as f:\n",
        "    data = csv.reader(f)\n",
        "    name = input('찾고 싶은 지역의 이름 입력: ')\n",
        "\n",
        "    m = []\n",
        "    f = []\n",
        "    size = []\n",
        "\n",
        "    for row in data:\n",
        "      if name in row[0]:\n",
        "        for i in range(3, 104):\n",
        "          male = int(row[i].replace(',', ''))\n",
        "          female = int(row[i + 103].replace(',', ''))\n",
        "          m.append(male)\n",
        "          f.append(female)\n",
        "          size.append(math.sqrt(male + female))\n",
        "        break\n",
        "\n",
        "plt.style.use('ggplot')\n",
        "plt.rc('font', family='Malgun Gothic')\n",
        "plt.figure(figsize=(10, 5))\n",
        "plt.title(name + ' 지역의 성별 인구 그래프')\n",
        "plt.scatter(m, f, s=size, c=range(101),  alpha=0.5, cmap='jet')\n",
        "plt.colorbar()\n",
        "plt.plot(range(max(m)), range(max(m)), 'g')\n",
        "plt.xlabel('남성 인구 수')\n",
        "plt.ylabel('여성 인구 수')\n",
        "plt.show()"
      ],
      "metadata": {
        "id": "5tLIuq5bixlZ"
      },
      "execution_count": null,
      "outputs": []
    }
  ]
}